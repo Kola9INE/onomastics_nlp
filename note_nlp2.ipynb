{
 "cells": [
  {
   "cell_type": "code",
   "execution_count": 1,
   "metadata": {},
   "outputs": [],
   "source": [
    "import spacy\n",
    "import pandas as pd"
   ]
  },
  {
   "cell_type": "code",
   "execution_count": 2,
   "metadata": {},
   "outputs": [
    {
     "name": "stderr",
     "output_type": "stream",
     "text": [
      "c:\\python310\\lib\\site-packages\\tqdm\\auto.py:21: TqdmWarning: IProgress not found. Please update jupyter and ipywidgets. See https://ipywidgets.readthedocs.io/en/stable/user_install.html\n",
      "  from .autonotebook import tqdm as notebook_tqdm\n",
      "c:\\python310\\lib\\site-packages\\transformers\\utils\\generic.py:441: UserWarning: torch.utils._pytree._register_pytree_node is deprecated. Please use torch.utils._pytree.register_pytree_node instead.\n",
      "  _torch_pytree._register_pytree_node(\n",
      "c:\\python310\\lib\\site-packages\\transformers\\utils\\generic.py:309: UserWarning: torch.utils._pytree._register_pytree_node is deprecated. Please use torch.utils._pytree.register_pytree_node instead.\n",
      "  _torch_pytree._register_pytree_node(\n"
     ]
    }
   ],
   "source": [
    "nlp = spacy.load('en_core_web_md')"
   ]
  },
  {
   "cell_type": "code",
   "execution_count": 3,
   "metadata": {},
   "outputs": [
    {
     "name": "stdout",
     "output_type": "stream",
     "text": [
      "The lion stakes his claim\n",
      "\n",
      "To the leadership of the pack.\n",
      "\n",
      "\n",
      "\n",
      "But the antelopes remember\n",
      "\n",
      "The ferocious pounce of his paws\n",
      "\n",
      "\n",
      "\n",
      "The hyena says the crown is made for him\n",
      "\n",
      "But the impalas shudder at his lethal appetite.\n",
      "\n",
      "\n",
      "\n",
      "The giraffe craves a place in the front\n",
      "\n",
      "But his eyes are too far from the ground.\n",
      "\n",
      "\n",
      "\n",
      "When the zebra says it's his right to lead\n",
      "\n",
      "The pack points to the duplicity of his stripes.\n",
      "\n",
      "\n",
      "\n",
      "The elephant trudges into the power tussle\n",
      "\n",
      "But its colleagues dread his trampling feet.\n",
      "\n",
      "\n",
      "\n",
      "The warthog is too ugly,\n",
      "\n",
      "The rhino too riotous.\n",
      "\n",
      "\n",
      "\n",
      "And the pack thrashes around\n",
      "\n",
      "Like a snake without a head.\n",
      "\n",
      "\n",
      "\n",
      "\"Our need calls for a hybrid of habits.\"\n",
      "\n",
      "Proclaims the Forest Sage,\n",
      "\n",
      "\n",
      "\n",
      "\"A little bit of a lion\n",
      "\n",
      "a little bit if a lamb\n",
      "\n",
      "\n",
      "\n",
      "Tough like a tiger, compassionate like a doe\n",
      "\n",
      "Transparent like a river, mysterious like a lake\n",
      "\n",
      "\n",
      "\n",
      "A leader who knows how to follow\n",
      "\n",
      "Followers mindful of their right to lead.\"\n"
     ]
    }
   ],
   "source": [
    "with open(r'C:\\Users\\Kola PC\\Desktop\\examples\\nlp_tests\\A_LEADER.txt', 'r') as f:\n",
    "    for lines in f:\n",
    "        print(lines)"
   ]
  },
  {
   "cell_type": "code",
   "execution_count": 4,
   "metadata": {},
   "outputs": [],
   "source": [
    "with open(r'C:\\Users\\Kola PC\\Desktop\\examples\\nlp_tests\\A_LEADER.txt', 'r') as f:\n",
    "    poem = f.read()"
   ]
  },
  {
   "cell_type": "code",
   "execution_count": 5,
   "metadata": {},
   "outputs": [
    {
     "data": {
      "text/plain": [
       "12"
      ]
     },
     "execution_count": 5,
     "metadata": {},
     "output_type": "execute_result"
    }
   ],
   "source": [
    "stanzas = [stanza for stanza in poem.split('\\n\\n')]\n",
    "len(stanzas)"
   ]
  },
  {
   "cell_type": "code",
   "execution_count": 6,
   "metadata": {},
   "outputs": [
    {
     "data": {
      "text/plain": [
       "'The lion stakes his claim\\nTo the leadership of the pack.'"
      ]
     },
     "execution_count": 6,
     "metadata": {},
     "output_type": "execute_result"
    }
   ],
   "source": [
    "stanzas[0]"
   ]
  },
  {
   "cell_type": "code",
   "execution_count": 7,
   "metadata": {},
   "outputs": [
    {
     "data": {
      "text/plain": [
       "2"
      ]
     },
     "execution_count": 7,
     "metadata": {},
     "output_type": "execute_result"
    }
   ],
   "source": [
    "len(stanzas[0].split('\\n'))"
   ]
  },
  {
   "cell_type": "code",
   "execution_count": 8,
   "metadata": {},
   "outputs": [],
   "source": [
    "clean_stanza = lambda stanza : stanza.replace('\\n', ' ').strip()"
   ]
  },
  {
   "cell_type": "code",
   "execution_count": 9,
   "metadata": {},
   "outputs": [],
   "source": [
    "stanzas = [clean_stanza(stanza) for stanza in stanzas]"
   ]
  },
  {
   "cell_type": "code",
   "execution_count": 10,
   "metadata": {},
   "outputs": [
    {
     "data": {
      "text/plain": [
       "'The lion stakes his claim To the leadership of the pack.'"
      ]
     },
     "execution_count": 10,
     "metadata": {},
     "output_type": "execute_result"
    }
   ],
   "source": [
    "stanzas[0]"
   ]
  },
  {
   "cell_type": "code",
   "execution_count": 11,
   "metadata": {},
   "outputs": [],
   "source": [
    "stanza_doc = [nlp(stanza) for stanza in stanzas]"
   ]
  },
  {
   "cell_type": "code",
   "execution_count": 12,
   "metadata": {},
   "outputs": [
    {
     "data": {
      "text/plain": [
       "[The, lion, stakes, his, claim, To, the, leadership, of, the, pack, .]"
      ]
     },
     "execution_count": 12,
     "metadata": {},
     "output_type": "execute_result"
    }
   ],
   "source": [
    "[token for token in stanza_doc[0]]"
   ]
  },
  {
   "cell_type": "code",
   "execution_count": 13,
   "metadata": {},
   "outputs": [
    {
     "name": "stdout",
     "output_type": "stream",
     "text": [
      "The lion stakes his claim To the leadership of the pack.\n"
     ]
    }
   ],
   "source": [
    "lines = [sentence for sentence in list(stanza_doc[0].sents)]\n",
    "for line in lines:\n",
    "    print(line)"
   ]
  },
  {
   "cell_type": "code",
   "execution_count": 14,
   "metadata": {},
   "outputs": [
    {
     "name": "stdout",
     "output_type": "stream",
     "text": [
      "INDEX     DOC_OBJECT\n",
      "1         The lion stakes his claim To the leadership of the pack.\n",
      "2         But the antelopes remember The ferocious pounce of his paws\n",
      "3         The hyena says the crown is made for him But the impalas shudder at his lethal appetite.\n",
      "4         The giraffe craves a place in the front But his eyes are too far from the ground.\n",
      "5         When the zebra says it's his right to lead The pack points to the duplicity of his stripes.\n",
      "6         The elephant trudges into the power tussle But its colleagues dread his trampling feet.\n",
      "7         The warthog is too ugly, The rhino too riotous.\n",
      "8         And the pack thrashes around Like a snake without a head.\n",
      "9         \"Our need calls for a hybrid of habits.\" Proclaims the Forest Sage,\n",
      "10        \"A little bit of a lion a little bit if a lamb\n",
      "11        Tough like a tiger, compassionate like a doe Transparent like a river, mysterious like a lake\n",
      "12        A leader who knows how to follow Followers mindful of their right to lead.\"\n"
     ]
    }
   ],
   "source": [
    "print(\n",
    "    f'{\"INDEX\":10}'\n",
    "    f'{\"DOC_OBJECT\"}'\n",
    ")\n",
    "for k,v in enumerate(stanza_doc, 1):\n",
    "    print(\n",
    "        f'{str(k):10}'\n",
    "        f'{str(v)}'\n",
    "    )"
   ]
  },
  {
   "cell_type": "code",
   "execution_count": 15,
   "metadata": {},
   "outputs": [
    {
     "name": "stdout",
     "output_type": "stream",
     "text": [
      "5\n",
      "['lion', 'stakes', 'claim', 'leadership', 'pack']\n",
      "[('lion', 1), ('stakes', 1), ('claim', 1), ('leadership', 1)]\n"
     ]
    }
   ],
   "source": [
    "from collections import Counter\n",
    "words = [\n",
    "    token.text\n",
    "    for token in stanza_doc[0]\n",
    "    if not token.is_stop and not token.is_punct\n",
    "]\n",
    "print(Counter(words).total())\n",
    "print(words)\n",
    "print(Counter(words).most_common(4))"
   ]
  },
  {
   "cell_type": "code",
   "execution_count": 16,
   "metadata": {},
   "outputs": [
    {
     "name": "stdout",
     "output_type": "stream",
     "text": [
      "\n",
      "NAMES IN STANZA 1\n",
      "The lion\n",
      "his claim\n",
      "the leadership\n",
      "the pack\n",
      "\n",
      "NAMES IN STANZA 2\n",
      "the antelopes\n",
      "The ferocious pounce\n",
      "his paws\n",
      "\n",
      "NAMES IN STANZA 3\n",
      "The hyena\n",
      "the crown\n",
      "him\n",
      "the impalas\n",
      "his lethal appetite\n",
      "\n",
      "NAMES IN STANZA 4\n",
      "The giraffe\n",
      "a place\n",
      "the front\n",
      "his eyes\n",
      "the ground\n",
      "\n",
      "NAMES IN STANZA 5\n",
      "the zebra\n",
      "it\n",
      "his right\n",
      "The pack\n",
      "the duplicity\n",
      "his stripes\n",
      "\n",
      "NAMES IN STANZA 6\n",
      "The elephant trudges\n",
      "the power tussle\n",
      "its colleagues\n",
      "his trampling feet\n",
      "\n",
      "NAMES IN STANZA 7\n",
      "The warthog\n",
      "The rhino\n",
      "\n",
      "NAMES IN STANZA 8\n",
      "the pack\n",
      "a snake\n",
      "a head\n",
      "\n",
      "NAMES IN STANZA 9\n",
      "Our need\n",
      "a hybrid\n",
      "habits\n",
      "Proclaims\n",
      "the Forest Sage\n",
      "\n",
      "NAMES IN STANZA 10\n",
      "\"A little bit\n",
      "a lion\n",
      "a little bit\n",
      "\n",
      "NAMES IN STANZA 11\n",
      "a tiger\n",
      "a doe\n",
      "Transparent\n",
      "a river\n",
      "a lake\n",
      "\n",
      "NAMES IN STANZA 12\n",
      "A leader\n",
      "who\n",
      "Followers\n",
      "their right\n"
     ]
    }
   ],
   "source": [
    "x =1\n",
    "while x < len(stanza_doc)+1:\n",
    "    print(f'\\nNAMES IN STANZA {x}')\n",
    "    for chunk in stanza_doc[x-1].noun_chunks:\n",
    "        print(chunk)\n",
    "    x+=1"
   ]
  },
  {
   "cell_type": "code",
   "execution_count": 17,
   "metadata": {},
   "outputs": [
    {
     "name": "stdout",
     "output_type": "stream",
     "text": [
      "1 [The lion, his claim, the leadership, the pack]\n",
      "2 [the antelopes, The ferocious pounce, his paws]\n",
      "3 [The hyena, the crown, him, the impalas, his lethal appetite]\n",
      "4 [The giraffe, a place, the front, his eyes, the ground]\n",
      "5 [the zebra, it, his right, The pack, the duplicity, his stripes]\n",
      "6 [The elephant trudges, the power tussle, its colleagues, his trampling feet]\n",
      "7 [The warthog, The rhino]\n",
      "8 [the pack, a snake, a head]\n",
      "9 [Our need, a hybrid, habits, Proclaims, the Forest Sage]\n",
      "10 [\"A little bit, a lion, a little bit]\n",
      "11 [a tiger, a doe, Transparent, a river, a lake]\n",
      "12 [A leader, who, Followers, their right]\n"
     ]
    }
   ],
   "source": [
    "chunks = []\n",
    "x = 0\n",
    "while x < len(stanza_doc):\n",
    "    nominals = [chunk for chunk in stanza_doc[x].noun_chunks]\n",
    "    chunks.append(nominals)\n",
    "    x+=1\n",
    "for k,v in enumerate(chunks, 1):\n",
    "    print(k, v)"
   ]
  },
  {
   "cell_type": "code",
   "execution_count": 18,
   "metadata": {},
   "outputs": [
    {
     "name": "stdout",
     "output_type": "stream",
     "text": [
      "TEXT      PART OF SPEECH SPACY EXPLANATION\n",
      "\n",
      "STANZA 1\n",
      "\n",
      "The       DET            determiner\n",
      "lion      NOUN           noun, singular or mass\n",
      "stakes    VERB           verb, 3rd person singular present\n",
      "his       PRON           pronoun, possessive\n",
      "claim     NOUN           noun, singular or mass\n",
      "To        ADP            conjunction, subordinating or preposition\n",
      "the       DET            determiner\n",
      "leadershipNOUN           noun, singular or mass\n",
      "of        ADP            conjunction, subordinating or preposition\n",
      "the       DET            determiner\n",
      "pack      NOUN           noun, singular or mass\n",
      ".         PUNCT          punctuation mark, sentence closer\n",
      "\n",
      "STANZA 2\n",
      "\n",
      "But       CCONJ          conjunction, coordinating\n",
      "the       DET            determiner\n",
      "antelopes NOUN           noun, plural\n",
      "remember  VERB           verb, non-3rd person singular present\n",
      "The       DET            determiner\n",
      "ferocious ADJ            adjective (English), other noun-modifier (Chinese)\n",
      "pounce    NOUN           noun, singular or mass\n",
      "of        ADP            conjunction, subordinating or preposition\n",
      "his       PRON           pronoun, possessive\n",
      "paws      NOUN           noun, plural\n",
      "\n",
      "STANZA 3\n",
      "\n",
      "The       DET            determiner\n",
      "hyena     NOUN           noun, singular or mass\n",
      "says      VERB           verb, 3rd person singular present\n",
      "the       DET            determiner\n",
      "crown     NOUN           noun, singular or mass\n",
      "is        AUX            verb, 3rd person singular present\n",
      "made      VERB           verb, past participle\n",
      "for       ADP            conjunction, subordinating or preposition\n",
      "him       PRON           pronoun, personal\n",
      "But       CCONJ          conjunction, coordinating\n",
      "the       DET            determiner\n",
      "impalas   NOUN           noun, plural\n",
      "shudder   VERB           verb, non-3rd person singular present\n",
      "at        ADP            conjunction, subordinating or preposition\n",
      "his       PRON           pronoun, possessive\n",
      "lethal    ADJ            adjective (English), other noun-modifier (Chinese)\n",
      "appetite  NOUN           noun, singular or mass\n",
      ".         PUNCT          punctuation mark, sentence closer\n",
      "\n",
      "STANZA 4\n",
      "\n",
      "The       DET            determiner\n",
      "giraffe   NOUN           noun, singular or mass\n",
      "craves    VERB           verb, 3rd person singular present\n",
      "a         DET            determiner\n",
      "place     NOUN           noun, singular or mass\n",
      "in        ADP            conjunction, subordinating or preposition\n",
      "the       DET            determiner\n",
      "front     NOUN           noun, singular or mass\n",
      "But       CCONJ          conjunction, coordinating\n",
      "his       PRON           pronoun, possessive\n",
      "eyes      NOUN           noun, plural\n",
      "are       AUX            verb, non-3rd person singular present\n",
      "too       ADV            adverb\n",
      "far       ADV            adverb\n",
      "from      ADP            conjunction, subordinating or preposition\n",
      "the       DET            determiner\n",
      "ground    NOUN           noun, singular or mass\n",
      ".         PUNCT          punctuation mark, sentence closer\n",
      "\n",
      "STANZA 5\n",
      "\n",
      "When      SCONJ          wh-adverb\n",
      "the       DET            determiner\n",
      "zebra     NOUN           noun, singular or mass\n",
      "says      VERB           verb, 3rd person singular present\n",
      "it        PRON           pronoun, personal\n",
      "'s        AUX            verb, 3rd person singular present\n",
      "his       PRON           pronoun, possessive\n",
      "right     NOUN           noun, singular or mass\n",
      "to        PART           infinitival \"to\"\n",
      "lead      VERB           verb, base form\n",
      "The       DET            determiner\n",
      "pack      NOUN           noun, singular or mass\n",
      "points    VERB           verb, 3rd person singular present\n",
      "to        ADP            conjunction, subordinating or preposition\n",
      "the       DET            determiner\n",
      "duplicity NOUN           noun, singular or mass\n",
      "of        ADP            conjunction, subordinating or preposition\n",
      "his       PRON           pronoun, possessive\n",
      "stripes   NOUN           noun, plural\n",
      ".         PUNCT          punctuation mark, sentence closer\n",
      "\n",
      "STANZA 6\n",
      "\n",
      "The       DET            determiner\n",
      "elephant  NOUN           noun, singular or mass\n",
      "trudges   NOUN           noun, plural\n",
      "into      ADP            conjunction, subordinating or preposition\n",
      "the       DET            determiner\n",
      "power     NOUN           noun, singular or mass\n",
      "tussle    NOUN           noun, singular or mass\n",
      "But       CCONJ          conjunction, coordinating\n",
      "its       PRON           pronoun, possessive\n",
      "colleaguesNOUN           noun, plural\n",
      "dread     VERB           verb, base form\n",
      "his       PRON           pronoun, possessive\n",
      "trampling VERB           verb, gerund or present participle\n",
      "feet      NOUN           noun, plural\n",
      ".         PUNCT          punctuation mark, sentence closer\n",
      "\n",
      "STANZA 7\n",
      "\n",
      "The       DET            determiner\n",
      "warthog   NOUN           noun, singular or mass\n",
      "is        AUX            verb, 3rd person singular present\n",
      "too       ADV            adverb\n",
      "ugly      ADJ            adjective (English), other noun-modifier (Chinese)\n",
      ",         PUNCT          punctuation mark, comma\n",
      "The       DET            determiner\n",
      "rhino     NOUN           noun, singular or mass\n",
      "too       ADV            adverb\n",
      "riotous   ADJ            adjective (English), other noun-modifier (Chinese)\n",
      ".         PUNCT          punctuation mark, sentence closer\n",
      "\n",
      "STANZA 8\n",
      "\n",
      "And       CCONJ          conjunction, coordinating\n",
      "the       DET            determiner\n",
      "pack      NOUN           noun, singular or mass\n",
      "thrashes  VERB           verb, 3rd person singular present\n",
      "around    ADP            adverb, particle\n",
      "Like      ADP            conjunction, subordinating or preposition\n",
      "a         DET            determiner\n",
      "snake     NOUN           noun, singular or mass\n",
      "without   ADP            conjunction, subordinating or preposition\n",
      "a         DET            determiner\n",
      "head      NOUN           noun, singular or mass\n",
      ".         PUNCT          punctuation mark, sentence closer\n",
      "\n",
      "STANZA 9\n",
      "\n",
      "\"         PUNCT          opening quotation mark\n",
      "Our       PRON           pronoun, possessive\n",
      "need      NOUN           noun, singular or mass\n",
      "calls     VERB           verb, 3rd person singular present\n",
      "for       ADP            conjunction, subordinating or preposition\n",
      "a         DET            determiner\n",
      "hybrid    NOUN           noun, singular or mass\n",
      "of        ADP            conjunction, subordinating or preposition\n",
      "habits    NOUN           noun, plural\n",
      ".         PUNCT          punctuation mark, sentence closer\n",
      "\"         PUNCT          closing quotation mark\n",
      "Proclaims PROPN          noun, proper singular\n",
      "the       DET            determiner\n",
      "Forest    PROPN          noun, proper singular\n",
      "Sage      PROPN          noun, proper singular\n",
      ",         PUNCT          punctuation mark, comma\n",
      "\n",
      "STANZA 10\n",
      "\n",
      "\"         PUNCT          opening quotation mark\n",
      "A         DET            determiner\n",
      "little    ADJ            adjective (English), other noun-modifier (Chinese)\n",
      "bit       NOUN           noun, singular or mass\n",
      "of        ADP            conjunction, subordinating or preposition\n",
      "a         DET            determiner\n",
      "lion      NOUN           noun, singular or mass\n",
      "a         DET            determiner\n",
      "little    ADJ            adjective (English), other noun-modifier (Chinese)\n",
      "bit       NOUN           noun, singular or mass\n",
      "if        SCONJ          conjunction, subordinating or preposition\n",
      "a         DET            determiner\n",
      "lamb      NOUN           noun, singular or mass\n",
      "\n",
      "STANZA 11\n",
      "\n",
      "Tough     ADJ            adjective (English), other noun-modifier (Chinese)\n",
      "like      ADP            conjunction, subordinating or preposition\n",
      "a         DET            determiner\n",
      "tiger     NOUN           noun, singular or mass\n",
      ",         PUNCT          punctuation mark, comma\n",
      "compassionateADJ            adjective (English), other noun-modifier (Chinese)\n",
      "like      ADP            conjunction, subordinating or preposition\n",
      "a         DET            determiner\n",
      "doe       NOUN           noun, singular or mass\n",
      "TransparentPROPN          noun, proper singular\n",
      "like      ADP            conjunction, subordinating or preposition\n",
      "a         DET            determiner\n",
      "river     NOUN           noun, singular or mass\n",
      ",         PUNCT          punctuation mark, comma\n",
      "mysteriousADJ            adjective (English), other noun-modifier (Chinese)\n",
      "like      ADP            conjunction, subordinating or preposition\n",
      "a         DET            determiner\n",
      "lake      NOUN           noun, singular or mass\n",
      "\n",
      "STANZA 12\n",
      "\n",
      "A         DET            determiner\n",
      "leader    NOUN           noun, singular or mass\n",
      "who       PRON           wh-pronoun, personal\n",
      "knows     VERB           verb, 3rd person singular present\n",
      "how       SCONJ          wh-adverb\n",
      "to        PART           infinitival \"to\"\n",
      "follow    VERB           verb, base form\n",
      "Followers NOUN           noun, plural\n",
      "mindful   ADJ            adjective (English), other noun-modifier (Chinese)\n",
      "of        ADP            conjunction, subordinating or preposition\n",
      "their     PRON           pronoun, possessive\n",
      "right     NOUN           noun, singular or mass\n",
      "to        PART           infinitival \"to\"\n",
      "lead      VERB           verb, base form\n",
      ".         PUNCT          punctuation mark, sentence closer\n",
      "\"         PUNCT          closing quotation mark\n"
     ]
    }
   ],
   "source": [
    "print(\n",
    "    f'{\"TEXT\":10}'\n",
    "    f'{\"PART OF SPEECH\":15}'\n",
    "    f'{\"SPACY EXPLANATION\"}'\n",
    ")\n",
    "x = 1\n",
    "while x < len(stanza_doc)+1:\n",
    "    print(f\"\\nSTANZA {x}\\n\")\n",
    "    for token in stanza_doc[x-1]:\n",
    "        print(\n",
    "            f'{str(token):10}'\n",
    "            f'{str(token.pos_):15}'\n",
    "            f'{str(spacy.explain(token.tag_))}'\n",
    "        )\n",
    "    x+=1"
   ]
  },
  {
   "cell_type": "code",
   "execution_count": 19,
   "metadata": {},
   "outputs": [
    {
     "name": "stdout",
     "output_type": "stream",
     "text": [
      "1 ['The lion', 'his claim', 'the leadership', 'the pack']\n",
      "2 ['the antelopes', 'The ferocious pounce', 'his paws']\n",
      "3 ['The hyena', 'the crown', 'him', 'the impalas', 'his lethal appetite']\n",
      "4 ['The giraffe', 'a place', 'the front', 'his eyes', 'the ground']\n",
      "5 ['the zebra', 'it', 'his right', 'The pack', 'the duplicity', 'his stripes']\n",
      "6 ['The elephant trudges', 'the power tussle', 'its colleagues', 'his trampling feet']\n",
      "7 ['The warthog', 'The rhino']\n",
      "8 ['the pack', 'a snake', 'a head']\n",
      "9 ['Our need', 'a hybrid', 'habits', 'Proclaims', 'the Forest Sage']\n",
      "10 ['\"A little bit', 'a lion', 'a little bit']\n",
      "11 ['a tiger', 'a doe', 'Transparent', 'a river', 'a lake']\n",
      "12 ['A leader', 'who', 'Followers', 'their right']\n"
     ]
    }
   ],
   "source": [
    "chunks = []\n",
    "stanza = []\n",
    "x = 1\n",
    "while x < len(stanza_doc)+1:\n",
    "    nominals = [chunk.text for chunk in stanza_doc[x-1].noun_chunks]\n",
    "    chunks.append(nominals)\n",
    "    stanza.append(x)\n",
    "    x+=1\n",
    "\n",
    "df =pd.DataFrame({\n",
    "        'STANZA':stanza,\n",
    "        'LABELS': chunks\n",
    "    })\n",
    "\n",
    "for k,v in enumerate(chunks, 1):\n",
    "    print(k, v)"
   ]
  },
  {
   "cell_type": "code",
   "execution_count": 20,
   "metadata": {},
   "outputs": [
    {
     "data": {
      "text/html": [
       "<div>\n",
       "<style scoped>\n",
       "    .dataframe tbody tr th:only-of-type {\n",
       "        vertical-align: middle;\n",
       "    }\n",
       "\n",
       "    .dataframe tbody tr th {\n",
       "        vertical-align: top;\n",
       "    }\n",
       "\n",
       "    .dataframe thead th {\n",
       "        text-align: right;\n",
       "    }\n",
       "</style>\n",
       "<table border=\"1\" class=\"dataframe\">\n",
       "  <thead>\n",
       "    <tr style=\"text-align: right;\">\n",
       "      <th></th>\n",
       "      <th>STANZA</th>\n",
       "      <th>LABELS</th>\n",
       "    </tr>\n",
       "  </thead>\n",
       "  <tbody>\n",
       "    <tr>\n",
       "      <th>0</th>\n",
       "      <td>1</td>\n",
       "      <td>[The lion, his claim, the leadership, the pack]</td>\n",
       "    </tr>\n",
       "    <tr>\n",
       "      <th>1</th>\n",
       "      <td>2</td>\n",
       "      <td>[the antelopes, The ferocious pounce, his paws]</td>\n",
       "    </tr>\n",
       "    <tr>\n",
       "      <th>2</th>\n",
       "      <td>3</td>\n",
       "      <td>[The hyena, the crown, him, the impalas, his l...</td>\n",
       "    </tr>\n",
       "    <tr>\n",
       "      <th>3</th>\n",
       "      <td>4</td>\n",
       "      <td>[The giraffe, a place, the front, his eyes, th...</td>\n",
       "    </tr>\n",
       "    <tr>\n",
       "      <th>4</th>\n",
       "      <td>5</td>\n",
       "      <td>[the zebra, it, his right, The pack, the dupli...</td>\n",
       "    </tr>\n",
       "    <tr>\n",
       "      <th>5</th>\n",
       "      <td>6</td>\n",
       "      <td>[The elephant trudges, the power tussle, its c...</td>\n",
       "    </tr>\n",
       "    <tr>\n",
       "      <th>6</th>\n",
       "      <td>7</td>\n",
       "      <td>[The warthog, The rhino]</td>\n",
       "    </tr>\n",
       "    <tr>\n",
       "      <th>7</th>\n",
       "      <td>8</td>\n",
       "      <td>[the pack, a snake, a head]</td>\n",
       "    </tr>\n",
       "    <tr>\n",
       "      <th>8</th>\n",
       "      <td>9</td>\n",
       "      <td>[Our need, a hybrid, habits, Proclaims, the Fo...</td>\n",
       "    </tr>\n",
       "    <tr>\n",
       "      <th>9</th>\n",
       "      <td>10</td>\n",
       "      <td>[\"A little bit, a lion, a little bit]</td>\n",
       "    </tr>\n",
       "    <tr>\n",
       "      <th>10</th>\n",
       "      <td>11</td>\n",
       "      <td>[a tiger, a doe, Transparent, a river, a lake]</td>\n",
       "    </tr>\n",
       "    <tr>\n",
       "      <th>11</th>\n",
       "      <td>12</td>\n",
       "      <td>[A leader, who, Followers, their right]</td>\n",
       "    </tr>\n",
       "  </tbody>\n",
       "</table>\n",
       "</div>"
      ],
      "text/plain": [
       "    STANZA                                             LABELS\n",
       "0        1    [The lion, his claim, the leadership, the pack]\n",
       "1        2    [the antelopes, The ferocious pounce, his paws]\n",
       "2        3  [The hyena, the crown, him, the impalas, his l...\n",
       "3        4  [The giraffe, a place, the front, his eyes, th...\n",
       "4        5  [the zebra, it, his right, The pack, the dupli...\n",
       "5        6  [The elephant trudges, the power tussle, its c...\n",
       "6        7                           [The warthog, The rhino]\n",
       "7        8                        [the pack, a snake, a head]\n",
       "8        9  [Our need, a hybrid, habits, Proclaims, the Fo...\n",
       "9       10              [\"A little bit, a lion, a little bit]\n",
       "10      11     [a tiger, a doe, Transparent, a river, a lake]\n",
       "11      12            [A leader, who, Followers, their right]"
      ]
     },
     "execution_count": 20,
     "metadata": {},
     "output_type": "execute_result"
    }
   ],
   "source": [
    "df"
   ]
  },
  {
   "cell_type": "code",
   "execution_count": 21,
   "metadata": {},
   "outputs": [
    {
     "data": {
      "text/plain": [
       "STANZA     int64\n",
       "LABELS    object\n",
       "dtype: object"
      ]
     },
     "execution_count": 21,
     "metadata": {},
     "output_type": "execute_result"
    }
   ],
   "source": [
    "df.dtypes"
   ]
  },
  {
   "cell_type": "code",
   "execution_count": 22,
   "metadata": {},
   "outputs": [],
   "source": [
    "df['STANZA'] = df['STANZA'].astype('str')"
   ]
  },
  {
   "cell_type": "code",
   "execution_count": 23,
   "metadata": {},
   "outputs": [
    {
     "data": {
      "text/plain": [
       "STANZA    object\n",
       "LABELS    object\n",
       "dtype: object"
      ]
     },
     "execution_count": 23,
     "metadata": {},
     "output_type": "execute_result"
    }
   ],
   "source": [
    "df.dtypes"
   ]
  },
  {
   "cell_type": "code",
   "execution_count": 24,
   "metadata": {},
   "outputs": [
    {
     "name": "stdout",
     "output_type": "stream",
     "text": [
      "0 ['The lion', 'his claim', 'the leadership', 'the pack']\n",
      "1 ['the antelopes', 'The ferocious pounce', 'his paws']\n",
      "2 ['The hyena', 'the crown', 'him', 'the impalas', 'his lethal appetite']\n",
      "3 ['The giraffe', 'a place', 'the front', 'his eyes', 'the ground']\n",
      "4 ['the zebra', 'it', 'his right', 'The pack', 'the duplicity', 'his stripes']\n",
      "5 ['The elephant trudges', 'the power tussle', 'its colleagues', 'his trampling feet']\n",
      "6 ['The warthog', 'The rhino']\n",
      "7 ['the pack', 'a snake', 'a head']\n",
      "8 ['Our need', 'a hybrid', 'habits', 'Proclaims', 'the Forest Sage']\n",
      "9 ['\"A little bit', 'a lion', 'a little bit']\n",
      "10 ['a tiger', 'a doe', 'Transparent', 'a river', 'a lake']\n",
      "11 ['A leader', 'who', 'Followers', 'their right']\n"
     ]
    }
   ],
   "source": [
    "for k, v in df.iterrows():\n",
    "    print(k, v.LABELS)"
   ]
  },
  {
   "cell_type": "code",
   "execution_count": null,
   "metadata": {},
   "outputs": [],
   "source": []
  }
 ],
 "metadata": {
  "kernelspec": {
   "display_name": "Python 3 (ipykernel)",
   "language": "python",
   "name": "python3"
  },
  "language_info": {
   "codemirror_mode": {
    "name": "ipython",
    "version": 3
   },
   "file_extension": ".py",
   "mimetype": "text/x-python",
   "name": "python",
   "nbconvert_exporter": "python",
   "pygments_lexer": "ipython3",
   "version": "3.12.4"
  }
 },
 "nbformat": 4,
 "nbformat_minor": 4
}
